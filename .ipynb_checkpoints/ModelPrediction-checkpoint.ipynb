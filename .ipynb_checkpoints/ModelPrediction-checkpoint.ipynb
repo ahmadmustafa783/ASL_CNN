{
 "cells": [
  {
   "cell_type": "code",
   "execution_count": null,
   "id": "144b47c9",
   "metadata": {},
   "outputs": [],
   "source": [
    "# Load Data\n",
    "\n",
    "import cv2\n",
    "import numpy as np\n",
    "import tensorflow as tf"
   ]
  },
  {
   "cell_type": "code",
   "execution_count": null,
   "id": "5d4d6551",
   "metadata": {},
   "outputs": [],
   "source": [
    "classes = ['A', 'B', 'C', 'D', 'E', 'F', 'G', 'H', 'I', 'J', 'K', \n",
    "           'L', 'M', 'N', 'O', 'P', 'Q', 'R', 'S', 'T', 'U', 'V', \n",
    "           'W', 'X', 'Y', 'Z', 'del', 'nothing', 'space']"
   ]
  },
  {
   "cell_type": "code",
   "execution_count": null,
   "id": "34cbdd7d",
   "metadata": {},
   "outputs": [],
   "source": [
    "model= tf.saved_model.load('C:/Users/Admn/Desktop/Fiverr/Asl/model')\n",
    "img = cv2.imread(\"C:/Users/Admn/Downloads/Data_ALS/asl_alphabet_test/asl_alphabet_test/B_test.jpg\")\n",
    "img = cv2.resize(img, (32, 32))"
   ]
  },
  {
   "cell_type": "code",
   "execution_count": null,
   "id": "8219d522",
   "metadata": {},
   "outputs": [],
   "source": [
    "np_X = np.array(img)\n",
    "img_arr= np_X.astype('float32')/255.0"
   ]
  },
  {
   "cell_type": "code",
   "execution_count": null,
   "id": "760cd0cd",
   "metadata": {},
   "outputs": [],
   "source": [
    "img_arr_4d = np.reshape(img_arr, (1, img_arr.shape[0], img_arr.shape[1], img_arr.shape[2]))\n",
    "print(img_arr_4d.shape)"
   ]
  },
  {
   "cell_type": "code",
   "execution_count": null,
   "id": "b47d8b12",
   "metadata": {},
   "outputs": [],
   "source": [
    "output_data = model(img_arr_4d )"
   ]
  },
  {
   "cell_type": "code",
   "execution_count": null,
   "id": "b3a1294f",
   "metadata": {},
   "outputs": [],
   "source": [
    "decoded_predictions = np.argmax(output_data, axis=1)\n",
    "decoded_labels = [classes[i] for i in decoded_predictions]\n",
    "\n",
    "# Print decoded labels\n",
    "print(decoded_labels)"
   ]
  },
  {
   "cell_type": "code",
   "execution_count": null,
   "id": "5f5fe5c6",
   "metadata": {},
   "outputs": [],
   "source": []
  }
 ],
 "metadata": {
  "kernelspec": {
   "display_name": "Python 3 (ipykernel)",
   "language": "python",
   "name": "python3"
  },
  "language_info": {
   "codemirror_mode": {
    "name": "ipython",
    "version": 3
   },
   "file_extension": ".py",
   "mimetype": "text/x-python",
   "name": "python",
   "nbconvert_exporter": "python",
   "pygments_lexer": "ipython3",
   "version": "3.10.9"
  }
 },
 "nbformat": 4,
 "nbformat_minor": 5
}
